{
  "nbformat": 4,
  "nbformat_minor": 0,
  "metadata": {
    "colab": {
      "name": "118A.ipynb",
      "provenance": [],
      "collapsed_sections": [],
      "toc_visible": true,
      "include_colab_link": true
    },
    "kernelspec": {
      "display_name": "Python 3",
      "language": "python",
      "name": "python3"
    },
    "language_info": {
      "codemirror_mode": {
        "name": "ipython",
        "version": 3
      },
      "file_extension": ".py",
      "mimetype": "text/x-python",
      "name": "python",
      "nbconvert_exporter": "python",
      "pygments_lexer": "ipython3",
      "version": "3.7.6"
    }
  },
  "cells": [
    {
      "cell_type": "markdown",
      "metadata": {
        "id": "view-in-github",
        "colab_type": "text"
      },
      "source": [
        "<a href=\"https://colab.research.google.com/github/narcilla/118A/blob/master/118A.ipynb\" target=\"_parent\"><img src=\"https://colab.research.google.com/assets/colab-badge.svg\" alt=\"Open In Colab\"/></a>"
      ]
    },
    {
      "cell_type": "markdown",
      "metadata": {
        "id": "cj2UuuA3-kuP"
      },
      "source": [
        "## Libraries"
      ]
    },
    {
      "cell_type": "code",
      "metadata": {
        "id": "XWNnlEfjL4sm"
      },
      "source": [
        "import pandas as pd\n",
        "import numpy as np\n",
        "import matplotlib.pyplot as plt\n",
        "import seaborn as sns\n",
        "import string\n",
        "\n",
        "from sklearn.model_selection import cross_val_score\n",
        "from sklearn.model_selection import train_test_split\n",
        "from sklearn.metrics import accuracy_score\n",
        "from sklearn.model_selection import GridSearchCV\n",
        "from sklearn.preprocessing import StandardScaler\n",
        "from sklearn.pipeline import Pipeline\n",
        "from sklearn.model_selection import StratifiedKFold\n",
        "\n",
        "from sklearn.neighbors import KNeighborsClassifier\n",
        "from sklearn.linear_model import LogisticRegression\n",
        "from sklearn.ensemble import RandomForestClassifier"
      ],
      "execution_count": 1,
      "outputs": []
    },
    {
      "cell_type": "code",
      "metadata": {
        "id": "6GbrNSK3MFPs"
      },
      "source": [
        "df_adult = pd.read_csv('adult.data')\n",
        "df_covtype = pd.read_csv('covtype.data')\n",
        "df_letter = pd.read_csv('letter-recognition.data')"
      ],
      "execution_count": 2,
      "outputs": []
    },
    {
      "cell_type": "markdown",
      "metadata": {
        "id": "FGhaS3UVUiLW"
      },
      "source": [
        "# **Adults**"
      ]
    },
    {
      "cell_type": "code",
      "metadata": {
        "colab": {
          "base_uri": "https://localhost:8080/",
          "height": 306
        },
        "id": "AnLCsdShML3L",
        "scrolled": true,
        "outputId": "30a37bec-e5f7-4411-88cc-f44c9570c611"
      },
      "source": [
        "df_adult.head()"
      ],
      "execution_count": 3,
      "outputs": [
        {
          "output_type": "execute_result",
          "data": {
            "text/html": [
              "<div>\n",
              "<style scoped>\n",
              "    .dataframe tbody tr th:only-of-type {\n",
              "        vertical-align: middle;\n",
              "    }\n",
              "\n",
              "    .dataframe tbody tr th {\n",
              "        vertical-align: top;\n",
              "    }\n",
              "\n",
              "    .dataframe thead th {\n",
              "        text-align: right;\n",
              "    }\n",
              "</style>\n",
              "<table border=\"1\" class=\"dataframe\">\n",
              "  <thead>\n",
              "    <tr style=\"text-align: right;\">\n",
              "      <th></th>\n",
              "      <th>39</th>\n",
              "      <th>State-gov</th>\n",
              "      <th>77516</th>\n",
              "      <th>Bachelors</th>\n",
              "      <th>13</th>\n",
              "      <th>Never-married</th>\n",
              "      <th>Adm-clerical</th>\n",
              "      <th>Not-in-family</th>\n",
              "      <th>White</th>\n",
              "      <th>Male</th>\n",
              "      <th>2174</th>\n",
              "      <th>0</th>\n",
              "      <th>40</th>\n",
              "      <th>United-States</th>\n",
              "      <th>&lt;=50K</th>\n",
              "    </tr>\n",
              "  </thead>\n",
              "  <tbody>\n",
              "    <tr>\n",
              "      <th>0</th>\n",
              "      <td>50</td>\n",
              "      <td>Self-emp-not-inc</td>\n",
              "      <td>83311</td>\n",
              "      <td>Bachelors</td>\n",
              "      <td>13</td>\n",
              "      <td>Married-civ-spouse</td>\n",
              "      <td>Exec-managerial</td>\n",
              "      <td>Husband</td>\n",
              "      <td>White</td>\n",
              "      <td>Male</td>\n",
              "      <td>0</td>\n",
              "      <td>0</td>\n",
              "      <td>13</td>\n",
              "      <td>United-States</td>\n",
              "      <td>&lt;=50K</td>\n",
              "    </tr>\n",
              "    <tr>\n",
              "      <th>1</th>\n",
              "      <td>38</td>\n",
              "      <td>Private</td>\n",
              "      <td>215646</td>\n",
              "      <td>HS-grad</td>\n",
              "      <td>9</td>\n",
              "      <td>Divorced</td>\n",
              "      <td>Handlers-cleaners</td>\n",
              "      <td>Not-in-family</td>\n",
              "      <td>White</td>\n",
              "      <td>Male</td>\n",
              "      <td>0</td>\n",
              "      <td>0</td>\n",
              "      <td>40</td>\n",
              "      <td>United-States</td>\n",
              "      <td>&lt;=50K</td>\n",
              "    </tr>\n",
              "    <tr>\n",
              "      <th>2</th>\n",
              "      <td>53</td>\n",
              "      <td>Private</td>\n",
              "      <td>234721</td>\n",
              "      <td>11th</td>\n",
              "      <td>7</td>\n",
              "      <td>Married-civ-spouse</td>\n",
              "      <td>Handlers-cleaners</td>\n",
              "      <td>Husband</td>\n",
              "      <td>Black</td>\n",
              "      <td>Male</td>\n",
              "      <td>0</td>\n",
              "      <td>0</td>\n",
              "      <td>40</td>\n",
              "      <td>United-States</td>\n",
              "      <td>&lt;=50K</td>\n",
              "    </tr>\n",
              "    <tr>\n",
              "      <th>3</th>\n",
              "      <td>28</td>\n",
              "      <td>Private</td>\n",
              "      <td>338409</td>\n",
              "      <td>Bachelors</td>\n",
              "      <td>13</td>\n",
              "      <td>Married-civ-spouse</td>\n",
              "      <td>Prof-specialty</td>\n",
              "      <td>Wife</td>\n",
              "      <td>Black</td>\n",
              "      <td>Female</td>\n",
              "      <td>0</td>\n",
              "      <td>0</td>\n",
              "      <td>40</td>\n",
              "      <td>Cuba</td>\n",
              "      <td>&lt;=50K</td>\n",
              "    </tr>\n",
              "    <tr>\n",
              "      <th>4</th>\n",
              "      <td>37</td>\n",
              "      <td>Private</td>\n",
              "      <td>284582</td>\n",
              "      <td>Masters</td>\n",
              "      <td>14</td>\n",
              "      <td>Married-civ-spouse</td>\n",
              "      <td>Exec-managerial</td>\n",
              "      <td>Wife</td>\n",
              "      <td>White</td>\n",
              "      <td>Female</td>\n",
              "      <td>0</td>\n",
              "      <td>0</td>\n",
              "      <td>40</td>\n",
              "      <td>United-States</td>\n",
              "      <td>&lt;=50K</td>\n",
              "    </tr>\n",
              "  </tbody>\n",
              "</table>\n",
              "</div>"
            ],
            "text/plain": [
              "   39          State-gov   77516   Bachelors  ...   0  40   United-States   <=50K\n",
              "0  50   Self-emp-not-inc   83311   Bachelors  ...   0  13   United-States   <=50K\n",
              "1  38            Private  215646     HS-grad  ...   0  40   United-States   <=50K\n",
              "2  53            Private  234721        11th  ...   0  40   United-States   <=50K\n",
              "3  28            Private  338409   Bachelors  ...   0  40            Cuba   <=50K\n",
              "4  37            Private  284582     Masters  ...   0  40   United-States   <=50K\n",
              "\n",
              "[5 rows x 15 columns]"
            ]
          },
          "metadata": {
            "tags": []
          },
          "execution_count": 3
        }
      ]
    },
    {
      "cell_type": "code",
      "metadata": {
        "colab": {
          "base_uri": "https://localhost:8080/"
        },
        "id": "yiw62-ZXNJU3",
        "outputId": "c9572b11-45c7-4525-9db1-57361e81acc8"
      },
      "source": [
        "df_adult.shape"
      ],
      "execution_count": 4,
      "outputs": [
        {
          "output_type": "execute_result",
          "data": {
            "text/plain": [
              "(32560, 15)"
            ]
          },
          "metadata": {
            "tags": []
          },
          "execution_count": 4
        }
      ]
    },
    {
      "cell_type": "code",
      "metadata": {
        "id": "fhCdVc8qVMpw"
      },
      "source": [
        "df_adult.columns = df_adult.columns.str.replace(' ', '')"
      ],
      "execution_count": 5,
      "outputs": []
    },
    {
      "cell_type": "code",
      "metadata": {
        "colab": {
          "base_uri": "https://localhost:8080/"
        },
        "id": "T4Is67OcVx98",
        "outputId": "39f65fb8-60e6-4b03-9ae3-3ae42004f2a9"
      },
      "source": [
        "df_adult.columns"
      ],
      "execution_count": 6,
      "outputs": [
        {
          "output_type": "execute_result",
          "data": {
            "text/plain": [
              "Index(['39', 'State-gov', '77516', 'Bachelors', '13', 'Never-married',\n",
              "       'Adm-clerical', 'Not-in-family', 'White', 'Male', '2174', '0', '40',\n",
              "       'United-States', '<=50K'],\n",
              "      dtype='object')"
            ]
          },
          "metadata": {
            "tags": []
          },
          "execution_count": 6
        }
      ]
    },
    {
      "cell_type": "code",
      "metadata": {
        "colab": {
          "base_uri": "https://localhost:8080/"
        },
        "id": "GPkLN0UzRi7V",
        "outputId": "aef96bed-0ad8-48fe-a83d-bd2fef15fd3d"
      },
      "source": [
        "df_adult['<=50K'].unique()"
      ],
      "execution_count": 7,
      "outputs": [
        {
          "output_type": "execute_result",
          "data": {
            "text/plain": [
              "array([' <=50K', ' >50K'], dtype=object)"
            ]
          },
          "metadata": {
            "tags": []
          },
          "execution_count": 7
        }
      ]
    },
    {
      "cell_type": "markdown",
      "metadata": {
        "id": "wvyd25AM-kuc"
      },
      "source": [
        "### Feature engineering (adult)"
      ]
    },
    {
      "cell_type": "code",
      "metadata": {
        "id": "694nxCZv-kue"
      },
      "source": [
        "# replace target, <=50K, with 0/1 for binary classification\n",
        "df_adult['<=50K'].replace({' <=50K':0, ' >50K':1}, inplace=True)"
      ],
      "execution_count": 8,
      "outputs": []
    },
    {
      "cell_type": "code",
      "metadata": {
        "id": "calI6bTk-kuf"
      },
      "source": [
        "# use one-hot encoding for categorical variables\n",
        "categorical = [i for i in df_adult.dtypes.index if df_adult.dtypes[i]=='object']\n",
        "\n",
        "df_adult = pd.get_dummies(df_adult, columns=categorical)"
      ],
      "execution_count": 9,
      "outputs": []
    },
    {
      "cell_type": "markdown",
      "metadata": {
        "id": "waxyVAyc-kuf"
      },
      "source": [
        "# Covtype"
      ]
    },
    {
      "cell_type": "code",
      "metadata": {
        "scrolled": true,
        "colab": {
          "base_uri": "https://localhost:8080/",
          "height": 224
        },
        "id": "goCOO5lO-kug",
        "outputId": "e32b74ff-7295-4227-a8ab-b725e50f1840"
      },
      "source": [
        "df_covtype.head()"
      ],
      "execution_count": 10,
      "outputs": [
        {
          "output_type": "execute_result",
          "data": {
            "text/html": [
              "<div>\n",
              "<style scoped>\n",
              "    .dataframe tbody tr th:only-of-type {\n",
              "        vertical-align: middle;\n",
              "    }\n",
              "\n",
              "    .dataframe tbody tr th {\n",
              "        vertical-align: top;\n",
              "    }\n",
              "\n",
              "    .dataframe thead th {\n",
              "        text-align: right;\n",
              "    }\n",
              "</style>\n",
              "<table border=\"1\" class=\"dataframe\">\n",
              "  <thead>\n",
              "    <tr style=\"text-align: right;\">\n",
              "      <th></th>\n",
              "      <th>2596</th>\n",
              "      <th>51</th>\n",
              "      <th>3</th>\n",
              "      <th>258</th>\n",
              "      <th>0</th>\n",
              "      <th>510</th>\n",
              "      <th>221</th>\n",
              "      <th>232</th>\n",
              "      <th>148</th>\n",
              "      <th>6279</th>\n",
              "      <th>1</th>\n",
              "      <th>0.1</th>\n",
              "      <th>0.2</th>\n",
              "      <th>0.3</th>\n",
              "      <th>0.4</th>\n",
              "      <th>0.5</th>\n",
              "      <th>0.6</th>\n",
              "      <th>0.7</th>\n",
              "      <th>0.8</th>\n",
              "      <th>0.9</th>\n",
              "      <th>0.10</th>\n",
              "      <th>0.11</th>\n",
              "      <th>0.12</th>\n",
              "      <th>0.13</th>\n",
              "      <th>0.14</th>\n",
              "      <th>0.15</th>\n",
              "      <th>0.16</th>\n",
              "      <th>0.17</th>\n",
              "      <th>0.18</th>\n",
              "      <th>0.19</th>\n",
              "      <th>0.20</th>\n",
              "      <th>0.21</th>\n",
              "      <th>0.22</th>\n",
              "      <th>0.23</th>\n",
              "      <th>0.24</th>\n",
              "      <th>0.25</th>\n",
              "      <th>0.26</th>\n",
              "      <th>0.27</th>\n",
              "      <th>0.28</th>\n",
              "      <th>0.29</th>\n",
              "      <th>0.30</th>\n",
              "      <th>0.31</th>\n",
              "      <th>1.1</th>\n",
              "      <th>0.32</th>\n",
              "      <th>0.33</th>\n",
              "      <th>0.34</th>\n",
              "      <th>0.35</th>\n",
              "      <th>0.36</th>\n",
              "      <th>0.37</th>\n",
              "      <th>0.38</th>\n",
              "      <th>0.39</th>\n",
              "      <th>0.40</th>\n",
              "      <th>0.41</th>\n",
              "      <th>0.42</th>\n",
              "      <th>5</th>\n",
              "    </tr>\n",
              "  </thead>\n",
              "  <tbody>\n",
              "    <tr>\n",
              "      <th>0</th>\n",
              "      <td>2590</td>\n",
              "      <td>56</td>\n",
              "      <td>2</td>\n",
              "      <td>212</td>\n",
              "      <td>-6</td>\n",
              "      <td>390</td>\n",
              "      <td>220</td>\n",
              "      <td>235</td>\n",
              "      <td>151</td>\n",
              "      <td>6225</td>\n",
              "      <td>1</td>\n",
              "      <td>0</td>\n",
              "      <td>0</td>\n",
              "      <td>0</td>\n",
              "      <td>0</td>\n",
              "      <td>0</td>\n",
              "      <td>0</td>\n",
              "      <td>0</td>\n",
              "      <td>0</td>\n",
              "      <td>0</td>\n",
              "      <td>0</td>\n",
              "      <td>0</td>\n",
              "      <td>0</td>\n",
              "      <td>0</td>\n",
              "      <td>0</td>\n",
              "      <td>0</td>\n",
              "      <td>0</td>\n",
              "      <td>0</td>\n",
              "      <td>0</td>\n",
              "      <td>0</td>\n",
              "      <td>0</td>\n",
              "      <td>0</td>\n",
              "      <td>0</td>\n",
              "      <td>0</td>\n",
              "      <td>0</td>\n",
              "      <td>0</td>\n",
              "      <td>0</td>\n",
              "      <td>0</td>\n",
              "      <td>0</td>\n",
              "      <td>0</td>\n",
              "      <td>0</td>\n",
              "      <td>0</td>\n",
              "      <td>1</td>\n",
              "      <td>0</td>\n",
              "      <td>0</td>\n",
              "      <td>0</td>\n",
              "      <td>0</td>\n",
              "      <td>0</td>\n",
              "      <td>0</td>\n",
              "      <td>0</td>\n",
              "      <td>0</td>\n",
              "      <td>0</td>\n",
              "      <td>0</td>\n",
              "      <td>0</td>\n",
              "      <td>5</td>\n",
              "    </tr>\n",
              "    <tr>\n",
              "      <th>1</th>\n",
              "      <td>2804</td>\n",
              "      <td>139</td>\n",
              "      <td>9</td>\n",
              "      <td>268</td>\n",
              "      <td>65</td>\n",
              "      <td>3180</td>\n",
              "      <td>234</td>\n",
              "      <td>238</td>\n",
              "      <td>135</td>\n",
              "      <td>6121</td>\n",
              "      <td>1</td>\n",
              "      <td>0</td>\n",
              "      <td>0</td>\n",
              "      <td>0</td>\n",
              "      <td>0</td>\n",
              "      <td>0</td>\n",
              "      <td>0</td>\n",
              "      <td>0</td>\n",
              "      <td>0</td>\n",
              "      <td>0</td>\n",
              "      <td>0</td>\n",
              "      <td>0</td>\n",
              "      <td>0</td>\n",
              "      <td>0</td>\n",
              "      <td>0</td>\n",
              "      <td>1</td>\n",
              "      <td>0</td>\n",
              "      <td>0</td>\n",
              "      <td>0</td>\n",
              "      <td>0</td>\n",
              "      <td>0</td>\n",
              "      <td>0</td>\n",
              "      <td>0</td>\n",
              "      <td>0</td>\n",
              "      <td>0</td>\n",
              "      <td>0</td>\n",
              "      <td>0</td>\n",
              "      <td>0</td>\n",
              "      <td>0</td>\n",
              "      <td>0</td>\n",
              "      <td>0</td>\n",
              "      <td>0</td>\n",
              "      <td>0</td>\n",
              "      <td>0</td>\n",
              "      <td>0</td>\n",
              "      <td>0</td>\n",
              "      <td>0</td>\n",
              "      <td>0</td>\n",
              "      <td>0</td>\n",
              "      <td>0</td>\n",
              "      <td>0</td>\n",
              "      <td>0</td>\n",
              "      <td>0</td>\n",
              "      <td>0</td>\n",
              "      <td>2</td>\n",
              "    </tr>\n",
              "    <tr>\n",
              "      <th>2</th>\n",
              "      <td>2785</td>\n",
              "      <td>155</td>\n",
              "      <td>18</td>\n",
              "      <td>242</td>\n",
              "      <td>118</td>\n",
              "      <td>3090</td>\n",
              "      <td>238</td>\n",
              "      <td>238</td>\n",
              "      <td>122</td>\n",
              "      <td>6211</td>\n",
              "      <td>1</td>\n",
              "      <td>0</td>\n",
              "      <td>0</td>\n",
              "      <td>0</td>\n",
              "      <td>0</td>\n",
              "      <td>0</td>\n",
              "      <td>0</td>\n",
              "      <td>0</td>\n",
              "      <td>0</td>\n",
              "      <td>0</td>\n",
              "      <td>0</td>\n",
              "      <td>0</td>\n",
              "      <td>0</td>\n",
              "      <td>0</td>\n",
              "      <td>0</td>\n",
              "      <td>0</td>\n",
              "      <td>0</td>\n",
              "      <td>0</td>\n",
              "      <td>0</td>\n",
              "      <td>0</td>\n",
              "      <td>0</td>\n",
              "      <td>0</td>\n",
              "      <td>0</td>\n",
              "      <td>0</td>\n",
              "      <td>0</td>\n",
              "      <td>0</td>\n",
              "      <td>0</td>\n",
              "      <td>0</td>\n",
              "      <td>0</td>\n",
              "      <td>0</td>\n",
              "      <td>0</td>\n",
              "      <td>0</td>\n",
              "      <td>0</td>\n",
              "      <td>1</td>\n",
              "      <td>0</td>\n",
              "      <td>0</td>\n",
              "      <td>0</td>\n",
              "      <td>0</td>\n",
              "      <td>0</td>\n",
              "      <td>0</td>\n",
              "      <td>0</td>\n",
              "      <td>0</td>\n",
              "      <td>0</td>\n",
              "      <td>0</td>\n",
              "      <td>2</td>\n",
              "    </tr>\n",
              "    <tr>\n",
              "      <th>3</th>\n",
              "      <td>2595</td>\n",
              "      <td>45</td>\n",
              "      <td>2</td>\n",
              "      <td>153</td>\n",
              "      <td>-1</td>\n",
              "      <td>391</td>\n",
              "      <td>220</td>\n",
              "      <td>234</td>\n",
              "      <td>150</td>\n",
              "      <td>6172</td>\n",
              "      <td>1</td>\n",
              "      <td>0</td>\n",
              "      <td>0</td>\n",
              "      <td>0</td>\n",
              "      <td>0</td>\n",
              "      <td>0</td>\n",
              "      <td>0</td>\n",
              "      <td>0</td>\n",
              "      <td>0</td>\n",
              "      <td>0</td>\n",
              "      <td>0</td>\n",
              "      <td>0</td>\n",
              "      <td>0</td>\n",
              "      <td>0</td>\n",
              "      <td>0</td>\n",
              "      <td>0</td>\n",
              "      <td>0</td>\n",
              "      <td>0</td>\n",
              "      <td>0</td>\n",
              "      <td>0</td>\n",
              "      <td>0</td>\n",
              "      <td>0</td>\n",
              "      <td>0</td>\n",
              "      <td>0</td>\n",
              "      <td>0</td>\n",
              "      <td>0</td>\n",
              "      <td>0</td>\n",
              "      <td>0</td>\n",
              "      <td>0</td>\n",
              "      <td>0</td>\n",
              "      <td>0</td>\n",
              "      <td>0</td>\n",
              "      <td>1</td>\n",
              "      <td>0</td>\n",
              "      <td>0</td>\n",
              "      <td>0</td>\n",
              "      <td>0</td>\n",
              "      <td>0</td>\n",
              "      <td>0</td>\n",
              "      <td>0</td>\n",
              "      <td>0</td>\n",
              "      <td>0</td>\n",
              "      <td>0</td>\n",
              "      <td>0</td>\n",
              "      <td>5</td>\n",
              "    </tr>\n",
              "    <tr>\n",
              "      <th>4</th>\n",
              "      <td>2579</td>\n",
              "      <td>132</td>\n",
              "      <td>6</td>\n",
              "      <td>300</td>\n",
              "      <td>-15</td>\n",
              "      <td>67</td>\n",
              "      <td>230</td>\n",
              "      <td>237</td>\n",
              "      <td>140</td>\n",
              "      <td>6031</td>\n",
              "      <td>1</td>\n",
              "      <td>0</td>\n",
              "      <td>0</td>\n",
              "      <td>0</td>\n",
              "      <td>0</td>\n",
              "      <td>0</td>\n",
              "      <td>0</td>\n",
              "      <td>0</td>\n",
              "      <td>0</td>\n",
              "      <td>0</td>\n",
              "      <td>0</td>\n",
              "      <td>0</td>\n",
              "      <td>0</td>\n",
              "      <td>0</td>\n",
              "      <td>0</td>\n",
              "      <td>0</td>\n",
              "      <td>0</td>\n",
              "      <td>0</td>\n",
              "      <td>0</td>\n",
              "      <td>0</td>\n",
              "      <td>0</td>\n",
              "      <td>0</td>\n",
              "      <td>0</td>\n",
              "      <td>0</td>\n",
              "      <td>0</td>\n",
              "      <td>0</td>\n",
              "      <td>0</td>\n",
              "      <td>0</td>\n",
              "      <td>0</td>\n",
              "      <td>0</td>\n",
              "      <td>0</td>\n",
              "      <td>0</td>\n",
              "      <td>1</td>\n",
              "      <td>0</td>\n",
              "      <td>0</td>\n",
              "      <td>0</td>\n",
              "      <td>0</td>\n",
              "      <td>0</td>\n",
              "      <td>0</td>\n",
              "      <td>0</td>\n",
              "      <td>0</td>\n",
              "      <td>0</td>\n",
              "      <td>0</td>\n",
              "      <td>0</td>\n",
              "      <td>2</td>\n",
              "    </tr>\n",
              "  </tbody>\n",
              "</table>\n",
              "</div>"
            ],
            "text/plain": [
              "   2596   51   3  258    0   510  221  ...  0.37  0.38  0.39  0.40  0.41  0.42  5\n",
              "0  2590   56   2  212   -6   390  220  ...     0     0     0     0     0     0  5\n",
              "1  2804  139   9  268   65  3180  234  ...     0     0     0     0     0     0  2\n",
              "2  2785  155  18  242  118  3090  238  ...     0     0     0     0     0     0  2\n",
              "3  2595   45   2  153   -1   391  220  ...     0     0     0     0     0     0  5\n",
              "4  2579  132   6  300  -15    67  230  ...     0     0     0     0     0     0  2\n",
              "\n",
              "[5 rows x 55 columns]"
            ]
          },
          "metadata": {
            "tags": []
          },
          "execution_count": 10
        }
      ]
    },
    {
      "cell_type": "code",
      "metadata": {
        "colab": {
          "base_uri": "https://localhost:8080/"
        },
        "id": "Rb01Ignc-kug",
        "outputId": "c94ccb58-8bc1-4617-be70-574ed499a7db"
      },
      "source": [
        "df_covtype.shape"
      ],
      "execution_count": 11,
      "outputs": [
        {
          "output_type": "execute_result",
          "data": {
            "text/plain": [
              "(581011, 55)"
            ]
          },
          "metadata": {
            "tags": []
          },
          "execution_count": 11
        }
      ]
    },
    {
      "cell_type": "markdown",
      "metadata": {
        "id": "-WdRAvuM-kuh"
      },
      "source": [
        "Select 30000 random data points to use for analysis since that is what Caruana uses in the paper. Also, 581011 data points is too much"
      ]
    },
    {
      "cell_type": "code",
      "metadata": {
        "id": "zxEcdqA2-kuh"
      },
      "source": [
        "df_ctype = df_covtype.sample(frac=1)\n",
        "df_ctype = df_ctype.iloc[0:30000]"
      ],
      "execution_count": 12,
      "outputs": []
    },
    {
      "cell_type": "code",
      "metadata": {
        "scrolled": false,
        "colab": {
          "base_uri": "https://localhost:8080/"
        },
        "id": "NgCeELj3-kui",
        "outputId": "b79d0cfc-ae87-4873-b8ea-240684f700c2"
      },
      "source": [
        "df_ctype['5'].value_counts()"
      ],
      "execution_count": 13,
      "outputs": [
        {
          "output_type": "execute_result",
          "data": {
            "text/plain": [
              "2    14750\n",
              "1    10826\n",
              "3     1864\n",
              "7     1061\n",
              "6      906\n",
              "5      474\n",
              "4      119\n",
              "Name: 5, dtype: int64"
            ]
          },
          "metadata": {
            "tags": []
          },
          "execution_count": 13
        }
      ]
    },
    {
      "cell_type": "markdown",
      "metadata": {
        "id": "fHtbOJ8p-kui"
      },
      "source": [
        "Last column is target. A value of 2 is converted to 1, the rest are converted to 0 for binary classification"
      ]
    },
    {
      "cell_type": "code",
      "metadata": {
        "id": "cyzi2fpd-kui"
      },
      "source": [
        "df_ctype['5'].replace({1:0, 3:0, 4:0, 5:0, 6:0, 7:0, 2:1}, inplace=True)"
      ],
      "execution_count": 14,
      "outputs": []
    },
    {
      "cell_type": "markdown",
      "metadata": {
        "id": "p5-ToQLY-kuj"
      },
      "source": [
        "# Letter"
      ]
    },
    {
      "cell_type": "code",
      "metadata": {
        "colab": {
          "base_uri": "https://localhost:8080/",
          "height": 204
        },
        "id": "UX7g0z6d-kuj",
        "outputId": "fdf2fef1-4623-4579-f41c-eff5e342cb1f"
      },
      "source": [
        "df_letter.head()"
      ],
      "execution_count": 15,
      "outputs": [
        {
          "output_type": "execute_result",
          "data": {
            "text/html": [
              "<div>\n",
              "<style scoped>\n",
              "    .dataframe tbody tr th:only-of-type {\n",
              "        vertical-align: middle;\n",
              "    }\n",
              "\n",
              "    .dataframe tbody tr th {\n",
              "        vertical-align: top;\n",
              "    }\n",
              "\n",
              "    .dataframe thead th {\n",
              "        text-align: right;\n",
              "    }\n",
              "</style>\n",
              "<table border=\"1\" class=\"dataframe\">\n",
              "  <thead>\n",
              "    <tr style=\"text-align: right;\">\n",
              "      <th></th>\n",
              "      <th>T</th>\n",
              "      <th>2</th>\n",
              "      <th>8</th>\n",
              "      <th>3</th>\n",
              "      <th>5</th>\n",
              "      <th>1</th>\n",
              "      <th>8.1</th>\n",
              "      <th>13</th>\n",
              "      <th>0</th>\n",
              "      <th>6</th>\n",
              "      <th>6.1</th>\n",
              "      <th>10</th>\n",
              "      <th>8.2</th>\n",
              "      <th>0.1</th>\n",
              "      <th>8.3</th>\n",
              "      <th>0.2</th>\n",
              "      <th>8.4</th>\n",
              "    </tr>\n",
              "  </thead>\n",
              "  <tbody>\n",
              "    <tr>\n",
              "      <th>0</th>\n",
              "      <td>I</td>\n",
              "      <td>5</td>\n",
              "      <td>12</td>\n",
              "      <td>3</td>\n",
              "      <td>7</td>\n",
              "      <td>2</td>\n",
              "      <td>10</td>\n",
              "      <td>5</td>\n",
              "      <td>5</td>\n",
              "      <td>4</td>\n",
              "      <td>13</td>\n",
              "      <td>3</td>\n",
              "      <td>9</td>\n",
              "      <td>2</td>\n",
              "      <td>8</td>\n",
              "      <td>4</td>\n",
              "      <td>10</td>\n",
              "    </tr>\n",
              "    <tr>\n",
              "      <th>1</th>\n",
              "      <td>D</td>\n",
              "      <td>4</td>\n",
              "      <td>11</td>\n",
              "      <td>6</td>\n",
              "      <td>8</td>\n",
              "      <td>6</td>\n",
              "      <td>10</td>\n",
              "      <td>6</td>\n",
              "      <td>2</td>\n",
              "      <td>6</td>\n",
              "      <td>10</td>\n",
              "      <td>3</td>\n",
              "      <td>7</td>\n",
              "      <td>3</td>\n",
              "      <td>7</td>\n",
              "      <td>3</td>\n",
              "      <td>9</td>\n",
              "    </tr>\n",
              "    <tr>\n",
              "      <th>2</th>\n",
              "      <td>N</td>\n",
              "      <td>7</td>\n",
              "      <td>11</td>\n",
              "      <td>6</td>\n",
              "      <td>6</td>\n",
              "      <td>3</td>\n",
              "      <td>5</td>\n",
              "      <td>9</td>\n",
              "      <td>4</td>\n",
              "      <td>6</td>\n",
              "      <td>4</td>\n",
              "      <td>4</td>\n",
              "      <td>10</td>\n",
              "      <td>6</td>\n",
              "      <td>10</td>\n",
              "      <td>2</td>\n",
              "      <td>8</td>\n",
              "    </tr>\n",
              "    <tr>\n",
              "      <th>3</th>\n",
              "      <td>G</td>\n",
              "      <td>2</td>\n",
              "      <td>1</td>\n",
              "      <td>3</td>\n",
              "      <td>1</td>\n",
              "      <td>1</td>\n",
              "      <td>8</td>\n",
              "      <td>6</td>\n",
              "      <td>6</td>\n",
              "      <td>6</td>\n",
              "      <td>6</td>\n",
              "      <td>5</td>\n",
              "      <td>9</td>\n",
              "      <td>1</td>\n",
              "      <td>7</td>\n",
              "      <td>5</td>\n",
              "      <td>10</td>\n",
              "    </tr>\n",
              "    <tr>\n",
              "      <th>4</th>\n",
              "      <td>S</td>\n",
              "      <td>4</td>\n",
              "      <td>11</td>\n",
              "      <td>5</td>\n",
              "      <td>8</td>\n",
              "      <td>3</td>\n",
              "      <td>8</td>\n",
              "      <td>8</td>\n",
              "      <td>6</td>\n",
              "      <td>9</td>\n",
              "      <td>5</td>\n",
              "      <td>6</td>\n",
              "      <td>6</td>\n",
              "      <td>0</td>\n",
              "      <td>8</td>\n",
              "      <td>9</td>\n",
              "      <td>7</td>\n",
              "    </tr>\n",
              "  </tbody>\n",
              "</table>\n",
              "</div>"
            ],
            "text/plain": [
              "   T  2   8  3  5  1  8.1  13  0  6  6.1  10  8.2  0.1  8.3  0.2  8.4\n",
              "0  I  5  12  3  7  2   10   5  5  4   13   3    9    2    8    4   10\n",
              "1  D  4  11  6  8  6   10   6  2  6   10   3    7    3    7    3    9\n",
              "2  N  7  11  6  6  3    5   9  4  6    4   4   10    6   10    2    8\n",
              "3  G  2   1  3  1  1    8   6  6  6    6   5    9    1    7    5   10\n",
              "4  S  4  11  5  8  3    8   8  6  9    5   6    6    0    8    9    7"
            ]
          },
          "metadata": {
            "tags": []
          },
          "execution_count": 15
        }
      ]
    },
    {
      "cell_type": "code",
      "metadata": {
        "colab": {
          "base_uri": "https://localhost:8080/"
        },
        "id": "7o2Ln-Dr-kuj",
        "outputId": "94b16490-c0e1-44e5-c92b-4088f98436a5"
      },
      "source": [
        "df_letter.shape"
      ],
      "execution_count": 16,
      "outputs": [
        {
          "output_type": "execute_result",
          "data": {
            "text/plain": [
              "(19999, 17)"
            ]
          },
          "metadata": {
            "tags": []
          },
          "execution_count": 16
        }
      ]
    },
    {
      "cell_type": "code",
      "metadata": {
        "scrolled": true,
        "colab": {
          "base_uri": "https://localhost:8080/"
        },
        "id": "w0SB2F03-kuj",
        "outputId": "49e26107-47d2-4944-c3ad-beb1a99622bb"
      },
      "source": [
        "len(df_letter['T'].value_counts())"
      ],
      "execution_count": 17,
      "outputs": [
        {
          "output_type": "execute_result",
          "data": {
            "text/plain": [
              "26"
            ]
          },
          "metadata": {
            "tags": []
          },
          "execution_count": 17
        }
      ]
    },
    {
      "cell_type": "markdown",
      "metadata": {
        "id": "e9b_fckZ-kuk"
      },
      "source": [
        "'T' column is target. According to the paper, replace letters A-M as 1 and the rest as 0"
      ]
    },
    {
      "cell_type": "code",
      "metadata": {
        "id": "1w2sljUI-kuk"
      },
      "source": [
        "alphabet = list(string.ascii_uppercase)\n",
        "df_letter['T'].replace(alphabet[0:13], 1, inplace=True)\n",
        "df_letter['T'].replace(alphabet[13:], 0, inplace=True)"
      ],
      "execution_count": 18,
      "outputs": []
    },
    {
      "cell_type": "markdown",
      "metadata": {
        "id": "Jj8ZWqvG-kuk"
      },
      "source": [
        "### Split data points into inputs/outputs"
      ]
    },
    {
      "cell_type": "code",
      "metadata": {
        "id": "rv-jtAYk-kuk"
      },
      "source": [
        "df_adult_X = df_adult.drop(['<=50K'], axis=1)\n",
        "df_adult_Y = df_adult['<=50K']"
      ],
      "execution_count": 19,
      "outputs": []
    },
    {
      "cell_type": "code",
      "metadata": {
        "id": "hENlUOlt-kul"
      },
      "source": [
        "df_ctype_X = df_ctype.drop(['5'], axis=1)\n",
        "df_ctype_Y = df_ctype['5']"
      ],
      "execution_count": 20,
      "outputs": []
    },
    {
      "cell_type": "code",
      "metadata": {
        "id": "OB-6JsPD-kul"
      },
      "source": [
        "df_letter_X = df_letter.drop(['T'], axis=1)\n",
        "df_letter_Y = df_letter['T']"
      ],
      "execution_count": 21,
      "outputs": []
    },
    {
      "cell_type": "markdown",
      "metadata": {
        "id": "-v6ZNwFj-kum"
      },
      "source": [
        "### Training/Validation"
      ]
    },
    {
      "cell_type": "markdown",
      "metadata": {
        "id": "PH5mQWlx-kum"
      },
      "source": [
        "Setting up all classifiers, pipelines, parameter grids, and GridSearchCV objects"
      ]
    },
    {
      "cell_type": "code",
      "metadata": {
        "id": "LK1DorE1-kun"
      },
      "source": [
        "# Define classifiers\n",
        "clf1 = KNeighborsClassifier()\n",
        "clf2 = LogisticRegression(random_state=1, max_iter=1000)\n",
        "clf3 = RandomForestClassifier(random_state=1)\n",
        "\n",
        "\n",
        "# pipelines\n",
        "pipe1 = Pipeline([('std', StandardScaler()),\n",
        "                  ('classifier', clf1)])\n",
        "\n",
        "pipe2 = Pipeline([('std', StandardScaler()),\n",
        "                  ('classifier', clf2)])\n",
        "\n",
        "pipe3 = Pipeline([('std', StandardScaler()),\n",
        "                  ('classifier', clf3)])\n",
        "\n",
        "\n",
        "# Setting up the parameter grids\n",
        "grid1 = [{'classifier__n_neighbors': np.linspace(1, 500, 25).astype(int),\n",
        "                'classifier__weights': ['uniform', 'distance']}]\n",
        "\n",
        "grid2 = [{'classifier__C': np.power(10., np.arange(-8, 5))}]\n",
        "\n",
        "grid3 = [{'classifier__max_features': [1, 2, 4, 6, 8, 12, 16],\n",
        "          'classifier__n_estimators': [1024]}]\n",
        "\n",
        "\n",
        "# Setting up multiple GridSearchCV objects, 1 for each algorithm\n",
        "gridcvs = {}\n",
        "\n",
        "for pgrid, est, name in zip((grid1, grid2, grid3),\n",
        "                            (pipe1, pipe2, pipe3),\n",
        "                            ('KNN', 'Logistic', 'RF')):\n",
        "    gcv = GridSearchCV(estimator=est,\n",
        "                       param_grid=pgrid,\n",
        "                       scoring='accuracy',\n",
        "                       n_jobs=1,\n",
        "                       cv=StratifiedKFold(n_splits=5),\n",
        "                       verbose=0,\n",
        "                       refit=True)\n",
        "    gridcvs[name] = gcv"
      ],
      "execution_count": 22,
      "outputs": []
    },
    {
      "cell_type": "code",
      "metadata": {
        "id": "BHXrD1n0-kuq"
      },
      "source": [
        "def train_test(df_X, df_Y):\n",
        "    '''For dataset, randomly choose 5000 data samples for 5-fold CV, select best hyperparameters for each\n",
        "       algorithm, and find training/test accuracy scores. Do this for 3 trials'''\n",
        "    num_trials = 3\n",
        "    for i in range(num_trials):\n",
        "    \n",
        "        # randomly choose 5000 data samples for 5-fold CV\n",
        "        X_train, X_test, y_train, y_test = train_test_split(df_X, df_Y, train_size=5000, stratify=df_Y)\n",
        "    \n",
        "        # grid search to select hyperparameters\n",
        "        #acc_scores_trial = {name: 1 for name, gs_est in gridcvs.items()}\n",
        "        for name, gsearch in sorted(gridcvs.items()):\n",
        "            # fit grid search to training, evaluate on test set\n",
        "            gsearch.fit(X_train, y_train)\n",
        "            gsearch.best_estimator_.fit(X_train, y_train) # fit to entire train set\n",
        "            train_acc = accuracy_score(y_true=y_train, y_pred=gsearch.best_estimator_.predict(X_train)) # accuracy on train\n",
        "            test_acc = accuracy_score(y_true=y_test, y_pred=gsearch.best_estimator_.predict(X_test)) # accuracy on test\n",
        "            print('Trial',i+1,'Training Accuracy for',name,': %.3f' %train_acc) # print accuracy for training\n",
        "            print('Trial',i+1,'Test Accuracy for',name,': %.3f' %test_acc) # print accuracy for test"
      ],
      "execution_count": 23,
      "outputs": []
    },
    {
      "cell_type": "markdown",
      "metadata": {
        "id": "zZpdDKY6-kur"
      },
      "source": [
        "### Accuracy scores"
      ]
    },
    {
      "cell_type": "code",
      "metadata": {
        "scrolled": true,
        "colab": {
          "base_uri": "https://localhost:8080/"
        },
        "id": "XkRM8C68-kur",
        "outputId": "0340d05b-0ca4-4109-bf58-8be25df530d6"
      },
      "source": [
        "print('ADULT')\n",
        "train_test(df_adult_X, df_adult_Y)"
      ],
      "execution_count": 24,
      "outputs": [
        {
          "output_type": "stream",
          "text": [
            "ADULT\n",
            "Trial 1 Training Accuracy for KNN : 0.837\n",
            "Trial 1 Test Accuracy for KNN : 0.830\n",
            "Trial 1 Training Accuracy for Logistic : 0.858\n",
            "Trial 1 Test Accuracy for Logistic : 0.849\n",
            "Trial 1 Training Accuracy for RF : 1.000\n",
            "Trial 1 Test Accuracy for RF : 0.853\n",
            "Trial 2 Training Accuracy for KNN : 0.839\n",
            "Trial 2 Test Accuracy for KNN : 0.830\n",
            "Trial 2 Training Accuracy for Logistic : 0.860\n",
            "Trial 2 Test Accuracy for Logistic : 0.848\n",
            "Trial 2 Training Accuracy for RF : 1.000\n",
            "Trial 2 Test Accuracy for RF : 0.853\n",
            "Trial 3 Training Accuracy for KNN : 1.000\n",
            "Trial 3 Test Accuracy for KNN : 0.830\n",
            "Trial 3 Training Accuracy for Logistic : 0.863\n",
            "Trial 3 Test Accuracy for Logistic : 0.848\n",
            "Trial 3 Training Accuracy for RF : 1.000\n",
            "Trial 3 Test Accuracy for RF : 0.853\n"
          ],
          "name": "stdout"
        }
      ]
    },
    {
      "cell_type": "code",
      "metadata": {
        "colab": {
          "base_uri": "https://localhost:8080/"
        },
        "id": "GtO2G9Z6-kus",
        "outputId": "e8a5b6d8-ed47-4806-fe63-46af8ee65b47"
      },
      "source": [
        "print('COV_TYPE')\n",
        "train_test(df_ctype_X, df_ctype_Y)"
      ],
      "execution_count": 25,
      "outputs": [
        {
          "output_type": "stream",
          "text": [
            "COV_TYPE\n",
            "Trial 1 Training Accuracy for KNN : 1.000\n",
            "Trial 1 Test Accuracy for KNN : 0.774\n",
            "Trial 1 Training Accuracy for Logistic : 0.754\n",
            "Trial 1 Test Accuracy for Logistic : 0.752\n",
            "Trial 1 Training Accuracy for RF : 1.000\n",
            "Trial 1 Test Accuracy for RF : 0.824\n",
            "Trial 2 Training Accuracy for KNN : 1.000\n",
            "Trial 2 Test Accuracy for KNN : 0.773\n",
            "Trial 2 Training Accuracy for Logistic : 0.759\n",
            "Trial 2 Test Accuracy for Logistic : 0.754\n",
            "Trial 2 Training Accuracy for RF : 1.000\n",
            "Trial 2 Test Accuracy for RF : 0.823\n",
            "Trial 3 Training Accuracy for KNN : 1.000\n",
            "Trial 3 Test Accuracy for KNN : 0.770\n",
            "Trial 3 Training Accuracy for Logistic : 0.748\n",
            "Trial 3 Test Accuracy for Logistic : 0.757\n",
            "Trial 3 Training Accuracy for RF : 1.000\n",
            "Trial 3 Test Accuracy for RF : 0.830\n"
          ],
          "name": "stdout"
        }
      ]
    },
    {
      "cell_type": "code",
      "metadata": {
        "colab": {
          "base_uri": "https://localhost:8080/"
        },
        "id": "EIyZsISP-kus",
        "outputId": "a57347bc-e993-44ef-cbca-7e3a72ec47ab"
      },
      "source": [
        "print('LETTER')\n",
        "train_test(df_letter_X, df_letter_Y)"
      ],
      "execution_count": 26,
      "outputs": [
        {
          "output_type": "stream",
          "text": [
            "LETTER\n",
            "Trial 1 Training Accuracy for KNN : 1.000\n",
            "Trial 1 Test Accuracy for KNN : 0.952\n",
            "Trial 1 Training Accuracy for Logistic : 0.721\n",
            "Trial 1 Test Accuracy for Logistic : 0.725\n",
            "Trial 1 Training Accuracy for RF : 1.000\n",
            "Trial 1 Test Accuracy for RF : 0.947\n",
            "Trial 2 Training Accuracy for KNN : 1.000\n",
            "Trial 2 Test Accuracy for KNN : 0.955\n",
            "Trial 2 Training Accuracy for Logistic : 0.730\n",
            "Trial 2 Test Accuracy for Logistic : 0.725\n",
            "Trial 2 Training Accuracy for RF : 1.000\n",
            "Trial 2 Test Accuracy for RF : 0.948\n",
            "Trial 3 Training Accuracy for KNN : 1.000\n",
            "Trial 3 Test Accuracy for KNN : 0.955\n",
            "Trial 3 Training Accuracy for Logistic : 0.724\n",
            "Trial 3 Test Accuracy for Logistic : 0.722\n",
            "Trial 3 Training Accuracy for RF : 1.000\n",
            "Trial 3 Test Accuracy for RF : 0.947\n"
          ],
          "name": "stdout"
        }
      ]
    }
  ]
}